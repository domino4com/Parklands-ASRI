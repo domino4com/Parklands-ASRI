{
  "nbformat": 4,
  "nbformat_minor": 0,
  "metadata": {
    "colab": {
      "provenance": [],
      "authorship_tag": "ABX9TyNkNLNtmgn9tKw+n1NEB/X8",
      "include_colab_link": true
    },
    "kernelspec": {
      "name": "python3",
      "display_name": "Python 3"
    },
    "language_info": {
      "name": "python"
    }
  },
  "cells": [
    {
      "cell_type": "markdown",
      "metadata": {
        "id": "view-in-github",
        "colab_type": "text"
      },
      "source": [
        "<a href=\"https://colab.research.google.com/github/domino4com/Parklands-ASRI/blob/main/Parklands_ASRI.ipynb\" target=\"_parent\"><img src=\"https://colab.research.google.com/assets/colab-badge.svg\" alt=\"Open In Colab\"/></a>"
      ]
    },
    {
      "cell_type": "code",
      "execution_count": 1,
      "metadata": {
        "colab": {
          "base_uri": "https://localhost:8080/"
        },
        "id": "t1N_Iy35AJlx",
        "outputId": "8646d236-2e34-458a-d5f4-ff1ca7d9482c"
      },
      "outputs": [
        {
          "output_type": "stream",
          "name": "stdout",
          "text": [
            "KML file 'rocket_flight.kml' generated successfully!\n"
          ]
        },
        {
          "output_type": "stream",
          "name": "stderr",
          "text": [
            "<ipython-input-1-c1d802c598cb>:23: DeprecationWarning: 'scipy.integrate.cumtrapz' is deprecated in favour of 'scipy.integrate.cumulative_trapezoid' and will be removed in SciPy 1.14.0\n",
            "  vx = cumtrapz(ax, time_s, initial=0)  # Velocity in X (m/s)\n",
            "<ipython-input-1-c1d802c598cb>:24: DeprecationWarning: 'scipy.integrate.cumtrapz' is deprecated in favour of 'scipy.integrate.cumulative_trapezoid' and will be removed in SciPy 1.14.0\n",
            "  vy = cumtrapz(ay, time_s, initial=0)  # Velocity in Y (m/s)\n",
            "<ipython-input-1-c1d802c598cb>:25: DeprecationWarning: 'scipy.integrate.cumtrapz' is deprecated in favour of 'scipy.integrate.cumulative_trapezoid' and will be removed in SciPy 1.14.0\n",
            "  x = cumtrapz(vx, time_s, initial=0)   # North displacement (meters)\n",
            "<ipython-input-1-c1d802c598cb>:26: DeprecationWarning: 'scipy.integrate.cumtrapz' is deprecated in favour of 'scipy.integrate.cumulative_trapezoid' and will be removed in SciPy 1.14.0\n",
            "  y = cumtrapz(vy, time_s, initial=0)   # East displacement (meters)\n"
          ]
        }
      ],
      "source": [
        "# Import required libraries\n",
        "import pandas as pd\n",
        "import numpy as np\n",
        "from scipy.integrate import cumtrapz\n",
        "\n",
        "# Step 1: Load the CSV file\n",
        "# Replace 'rocket_data.csv' with your actual filename\n",
        "df = pd.read_csv('rocket_data.csv')\n",
        "\n",
        "# Step 2: Extract relevant columns\n",
        "time_ms = df['T-Zero Time [ms]']  # Time since launch in milliseconds\n",
        "time_s = time_ms / 1000.0         # Convert to seconds\n",
        "ax_g = df['X [g]']                # Acceleration in X (assumed North)\n",
        "ay_g = df['Y [g]']                # Acceleration in Y (assumed East)\n",
        "altitude_m = df['Altitude [m]']   # Altitude in meters\n",
        "\n",
        "# Step 3: Convert accelerations from g to m/s²\n",
        "g = 9.81\n",
        "ax = ax_g * g  # X acceleration in m/s²\n",
        "ay = ay_g * g  # Y acceleration in m/s²\n",
        "\n",
        "# Step 4: Integrate accelerations to get velocities and positions\n",
        "vx = cumtrapz(ax, time_s, initial=0)  # Velocity in X (m/s)\n",
        "vy = cumtrapz(ay, time_s, initial=0)  # Velocity in Y (m/s)\n",
        "x = cumtrapz(vx, time_s, initial=0)   # North displacement (meters)\n",
        "y = cumtrapz(vy, time_s, initial=0)   # East displacement (meters)\n",
        "\n",
        "# Step 5: Convert displacements to latitude and longitude\n",
        "R_earth = 6371000  # Earth's radius in meters\n",
        "start_lat = -34.602642  # Starting latitude in degrees\n",
        "start_lon = 20.302401   # Starting longitude in degrees\n",
        "\n",
        "delta_lat = (x / R_earth) * (180 / np.pi)\n",
        "delta_lon = (y / (R_earth * np.cos(np.radians(start_lat)))) * (180 / np.pi)\n",
        "latitude = start_lat + delta_lat\n",
        "longitude = start_lon + delta_lon\n",
        "\n",
        "# Step 6: Reduce waypoints to ~10% by sampling every 10th row\n",
        "skip = 10\n",
        "latitude_reduced = latitude[::skip]\n",
        "longitude_reduced = longitude[::skip]\n",
        "altitude_reduced = altitude_m[::skip]\n",
        "\n",
        "# Step 7: Generate KML file with altitude parameters\n",
        "kml_header = '''<?xml version=\"1.0\" encoding=\"UTF-8\"?>\n",
        "<kml xmlns=\"http://www.opengis.net/kml/2.2\">\n",
        "  <Document>\n",
        "    <Placemark>\n",
        "      <LineString>\n",
        "        <extrude>1</extrude>\n",
        "        <altitudeMode>absolute</altitudeMode>\n",
        "        <coordinates>'''\n",
        "kml_footer = '''        </coordinates>\n",
        "      </LineString>\n",
        "    </Placemark>\n",
        "  </Document>\n",
        "</kml>'''\n",
        "\n",
        "# Create coordinates string in the format: longitude,latitude,altitude\n",
        "coordinates = []\n",
        "for lon, lat, alt in zip(longitude_reduced, latitude_reduced, altitude_reduced):\n",
        "    coordinates.append(f\"{lon},{lat},{alt}\")\n",
        "coordinates_str = \"\\n\".join(coordinates)\n",
        "\n",
        "# Write to KML file\n",
        "with open('rocket_flight.kml', 'w') as f:\n",
        "    f.write(kml_header)\n",
        "    f.write(coordinates_str)\n",
        "    f.write(kml_footer)\n",
        "\n",
        "print(\"KML file 'rocket_flight.kml' generated successfully!\")"
      ]
    }
  ]
}